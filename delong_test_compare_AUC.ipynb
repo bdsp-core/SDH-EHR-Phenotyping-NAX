{
 "cells": [
  {
   "cell_type": "code",
   "execution_count": 33,
   "id": "de436f16-7e4e-43b5-a21e-73cb0b348a0a",
   "metadata": {},
   "outputs": [
    {
     "name": "stdout",
     "output_type": "stream",
     "text": [
      "(1500, 4)\n",
      "(1500, 4)\n",
      "(1500, 4)\n",
      "(1500, 4)\n",
      "(1500, 4)\n",
      "(1500, 4)\n",
      "(1500, 4)\n",
      "(1500, 4)\n"
     ]
    }
   ],
   "source": [
    "import numpy as np\n",
    "import pandas as pd\n",
    "from MLstatkit import Delong_test\n",
    "\n",
    "\n",
    "df1 = pd.read_csv('RF_training_pred_from_step7.csv')\n",
    "df2 = pd.read_csv('LR_training_pred_from_step5.csv')\n",
    "\n",
    "df3 = pd.read_csv('RF_training_pred_only_ICD_from_step15.csv')\n",
    "df4 = pd.read_csv('LR_training_pred_only_ICD_from_step23.csv')\n",
    "\n",
    "df5 = pd.read_csv('RF_training_pred_only_CPT_from_step16.csv')\n",
    "df6 = pd.read_csv('LR_training_pred_only_CPT_from_step24.csv')\n",
    "\n",
    "df7 = pd.read_csv('RF_training_pred_only_KW_from_step17.csv')\n",
    "df8 = pd.read_csv('LR_training_pred_only_KW_from_step25.csv')\n",
    "\n",
    "print(df1.shape)\n",
    "print(df2.shape)\n",
    "print(df3.shape)\n",
    "print(df4.shape)\n",
    "print(df5.shape)\n",
    "print(df6.shape)\n",
    "print(df7.shape)\n",
    "print(df8.shape)\n"
   ]
  },
  {
   "cell_type": "code",
   "execution_count": 34,
   "id": "ea964122-bedb-4a25-97fe-9334f7107a8e",
   "metadata": {},
   "outputs": [
    {
     "name": "stdout",
     "output_type": "stream",
     "text": [
      "(1500, 7)\n",
      "AUC(all, RF) = 0.975 (0.968-0.982)\n",
      "AUC(all, LR) = 0.973 (0.966-0.980)\n",
      "p = 0.28759234247544685\n",
      "\n",
      "\n",
      "(1500, 7)\n",
      "AUC(ICD, RF) = 0.901 (0.885-0.917)\n",
      "AUC(ICD, LR) = 0.908 (0.894-0.923)\n",
      "p = 0.21219478644998702\n",
      "\n",
      "\n",
      "(1500, 7)\n",
      "AUC(CPT, RF) = 0.708 (0.681-0.735)\n",
      "AUC(CPT, LR) = 0.685 (0.658-0.712)\n",
      "p = 0.15793225888879248\n",
      "\n",
      "\n",
      "(1500, 7)\n",
      "AUC(KW, RF) = 0.972 (0.965-0.979)\n",
      "AUC(KW, LR) = 0.971 (0.963-0.979)\n",
      "p = 0.5680423065562947\n",
      "\n",
      "\n"
     ]
    }
   ],
   "source": [
    "for ni, name in enumerate(['all', 'ICD', 'CPT', 'KW']):\n",
    "    name1 = f'{name}, RF'\n",
    "    dfa = eval(f'df{ni*2+1}')\n",
    "    \n",
    "    name2 = f'{name}, LR'\n",
    "    dfb = eval(f'df{ni*2+2}')\n",
    "    \n",
    "    df_ = dfa.merge(dfb, on='BDSPPatientID', how='inner', validate='1:1')\n",
    "    print(df_.shape)\n",
    "    assert (df_.Label_x.values==df_.Label_y.values).all()\n",
    "    z_score, p_value, ci_a, ci_b, auc_a, auc_b, info = Delong_test(\n",
    "        df_.Label_x.values, df_.PredictionProb_x.values, df_.PredictionProb_y.values,\n",
    "        alpha=0.95, return_ci=True, return_auc=True\n",
    "    )\n",
    "    print(f'AUC({name1}) = {auc_a:.3f} ({ci_a[0]:.3f}-{ci_a[1]:.3f})')\n",
    "    print(f'AUC({name2}) = {auc_b:.3f} ({ci_b[0]:.3f}-{ci_b[1]:.3f})')\n",
    "    print(f'p = {p_value}')\n",
    "    print('\\n')"
   ]
  },
  {
   "cell_type": "code",
   "execution_count": 35,
   "id": "f4241760-879c-4aab-b765-c07f3ea6c459",
   "metadata": {},
   "outputs": [
    {
     "name": "stdout",
     "output_type": "stream",
     "text": [
      "(1500, 7)\n",
      "AUC(all, RF) = 0.975 (0.968-0.982)\n",
      "AUC(ICD, RF) = 0.901 (0.885-0.917)\n",
      "p = 6.41300976050598e-23\n",
      "\n",
      "\n",
      "(1500, 7)\n",
      "AUC(all, RF) = 0.975 (0.968-0.982)\n",
      "AUC(CPT, RF) = 0.708 (0.681-0.735)\n",
      "p = 1.116501915969147e-83\n",
      "\n",
      "\n",
      "(1500, 7)\n",
      "AUC(all, RF) = 0.975 (0.968-0.982)\n",
      "AUC(KW, RF) = 0.972 (0.965-0.979)\n",
      "p = 0.03215745920969465\n",
      "\n",
      "\n",
      "(1500, 7)\n",
      "AUC(all, LR) = 0.973 (0.966-0.980)\n",
      "AUC(ICD, LR) = 0.908 (0.894-0.923)\n",
      "p = 8.714858623723456e-23\n",
      "\n",
      "\n",
      "(1500, 7)\n",
      "AUC(all, LR) = 0.973 (0.966-0.980)\n",
      "AUC(CPT, LR) = 0.685 (0.658-0.712)\n",
      "p = 5.612122580256758e-97\n",
      "\n",
      "\n",
      "(1500, 7)\n",
      "AUC(all, LR) = 0.973 (0.966-0.980)\n",
      "AUC(KW, LR) = 0.971 (0.963-0.979)\n",
      "p = 0.05718624297937988\n",
      "\n",
      "\n"
     ]
    }
   ],
   "source": [
    "for mi, model in enumerate(['RF', 'LR']):\n",
    "    name1 = f'all, {model}'\n",
    "    if model=='RF':\n",
    "        dfa = df1\n",
    "    elif model=='LR':\n",
    "        dfa = df2\n",
    "    \n",
    "    for ni, name in enumerate(['ICD', 'CPT', 'KW']):\n",
    "        \n",
    "        name2 = f'{name}, {model}'\n",
    "        dfb = eval(f'df{ni*2+3+mi}')\n",
    "        \n",
    "        df_ = dfa.merge(dfb, on='BDSPPatientID', how='inner', validate='1:1')\n",
    "        print(df_.shape)\n",
    "        assert (df_.Label_x.values==df_.Label_y.values).all()\n",
    "        z_score, p_value, ci_a, ci_b, auc_a, auc_b, info = Delong_test(\n",
    "            df_.Label_x.values, df_.PredictionProb_x.values, df_.PredictionProb_y.values,\n",
    "            alpha=0.95, return_ci=True, return_auc=True\n",
    "        )\n",
    "        print(f'AUC({name1}) = {auc_a:.3f} ({ci_a[0]:.3f}-{ci_a[1]:.3f})')\n",
    "        print(f'AUC({name2}) = {auc_b:.3f} ({ci_b[0]:.3f}-{ci_b[1]:.3f})')\n",
    "        print(f'p = {p_value}')\n",
    "        print('\\n')"
   ]
  },
  {
   "cell_type": "code",
   "execution_count": null,
   "id": "71c27712-6690-4762-8d8c-d4fa895f5608",
   "metadata": {},
   "outputs": [],
   "source": []
  }
 ],
 "metadata": {
  "kernelspec": {
   "display_name": "Python 3 (ipykernel)",
   "language": "python",
   "name": "python3"
  },
  "language_info": {
   "codemirror_mode": {
    "name": "ipython",
    "version": 3
   },
   "file_extension": ".py",
   "mimetype": "text/x-python",
   "name": "python",
   "nbconvert_exporter": "python",
   "pygments_lexer": "ipython3",
   "version": "3.8.6"
  }
 },
 "nbformat": 4,
 "nbformat_minor": 5
}
